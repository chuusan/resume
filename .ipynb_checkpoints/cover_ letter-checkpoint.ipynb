{
 "cells": [
  {
   "cell_type": "markdown",
   "metadata": {},
   "source": [
    "# XUGANG (KIRK) ZHONG"
   ]
  },
  {
   "cell_type": "markdown",
   "metadata": {},
   "source": [
    "*****************"
   ]
  },
  {
   "cell_type": "markdown",
   "metadata": {},
   "source": [
    "Dear Master of Data Science Admission Committee,\n",
    "\n",
    "After getting my M.A.Sc. degree, I am currently an analyst in Cushman & Wakefield, specializing in finding a more efficient way to manage clients’ properties including commercial and office buildings and retail sites at a lower cost. Although with some experience in data processing and simulation from previous academic training mainly focusing on computation based on existing modules, I still felt overwhelmed when faced with all sorts of property management data. To overcome the problem, I picked up R courses on Datacamp. During the learning process, I became more and more interested in solving asset management problems. Last summer, I helped our team introduce 1Service to Porsche’s retail sites management. However, I learned that I would like to acquire more religious and systematical training in data science.\n",
    "\n",
    "\n",
    "\n"
   ]
  },
  {
   "cell_type": "markdown",
   "metadata": {},
   "source": [
    "_I will give some functions I wrote blow as an example:_"
   ]
  },
  {
   "cell_type": "code",
   "execution_count": 32,
   "metadata": {},
   "outputs": [],
   "source": [
    "def square(r):\n",
    "    '''\n",
    "    The function returns the square of input\n",
    "    \n",
    "    '''\n",
    "    \n",
    "    sqr=r**2\n",
    "    return sqr"
   ]
  },
  {
   "cell_type": "code",
   "execution_count": 33,
   "metadata": {},
   "outputs": [
    {
     "name": "stdout",
     "output_type": "stream",
     "text": [
      "[0, 1, 4, 9, 16, 25, 36, 49, 64, 81]\n"
     ]
    }
   ],
   "source": [
    "L = [x for x in range(10)]\n",
    "R = [x for x in range(10)]\n",
    "for i in range (10):\n",
    "    R[i]=square(L[i])\n",
    "print (R)"
   ]
  },
  {
   "cell_type": "markdown",
   "metadata": {},
   "source": [
    "\n",
    "\n",
    "\n",
    "\n",
    "\n",
    "\n",
    "\n",
    "\n",
    "### Xugang Zhong\n",
    "Master of Data Science Candidate\n",
    "\n",
    "University of British Columbia"
   ]
  },
  {
   "cell_type": "code",
   "execution_count": null,
   "metadata": {},
   "outputs": [],
   "source": []
  }
 ],
 "metadata": {
  "kernelspec": {
   "display_name": "Python 3",
   "language": "python",
   "name": "python3"
  },
  "language_info": {
   "codemirror_mode": {
    "name": "ipython",
    "version": 3
   },
   "file_extension": ".py",
   "mimetype": "text/x-python",
   "name": "python",
   "nbconvert_exporter": "python",
   "pygments_lexer": "ipython3",
   "version": "3.7.3"
  }
 },
 "nbformat": 4,
 "nbformat_minor": 4
}
